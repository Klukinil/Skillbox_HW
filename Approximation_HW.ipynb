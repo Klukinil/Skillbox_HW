{
  "nbformat": 4,
  "nbformat_minor": 0,
  "metadata": {
    "kernelspec": {
      "display_name": "Python 3",
      "language": "python",
      "name": "python3"
    },
    "language_info": {
      "codemirror_mode": {
        "name": "ipython",
        "version": 3
      },
      "file_extension": ".py",
      "mimetype": "text/x-python",
      "name": "python",
      "nbconvert_exporter": "python",
      "pygments_lexer": "ipython3",
      "version": "3.7.3"
    },
    "colab": {
      "name": "Копия блокнота \"Аппроксимация и преобразования функций. Домашнее задание.ipynb\"",
      "provenance": [],
      "collapsed_sections": [],
      "toc_visible": true,
      "include_colab_link": true
    }
  },
  "cells": [
    {
      "cell_type": "markdown",
      "metadata": {
        "id": "view-in-github",
        "colab_type": "text"
      },
      "source": [
        "<a href=\"https://colab.research.google.com/github/Klukinil/Skillbox_HW/blob/main/Approximation_HW.ipynb\" target=\"_parent\"><img src=\"https://colab.research.google.com/assets/colab-badge.svg\" alt=\"Open In Colab\"/></a>"
      ]
    },
    {
      "cell_type": "markdown",
      "metadata": {
        "id": "-zOqnEVGugHU"
      },
      "source": [
        "# Блок 1.\n",
        "\n",
        "С помощью symPy найдите полиномы, описывающие данные наборы точек. Затем проведите полное исследование каждого полученного полинома: проверьте четность/нечетность, найдите нули, промежутки знакопостоянства. Постройте их графики. С помощью изменения промежутка для х добейтесь того, чтобы все нули были отображены на графике функции. <br><br><br>\n",
        "а) $(-4; -4268), (-3; -1227), (-1; -17), (1; 17), (3; 1227), (4; 4268)$<br><br>\n",
        "б)$ (-4; -16729), (-3; -3999), (-1; 5), (1; 1), (3; 4005), (4; 16735)$\n"
      ]
    },
    {
      "cell_type": "code",
      "metadata": {
        "id": "mO8e_U97uxvk"
      },
      "source": [
        "from sympy import *\n",
        "\n",
        "a0, a1, a2, a3, a4, a5 x, y = symbols('a0, a1, a2, a3, a4, a5, x, y')"
      ],
      "execution_count": null,
      "outputs": []
    },
    {
      "cell_type": "markdown",
      "metadata": {
        "id": "eO_TmBvkt2M9"
      },
      "source": [
        "# **Решим первую задачу**\r\n",
        "\r\n"
      ]
    },
    {
      "cell_type": "code",
      "metadata": {
        "id": "dd9LxFrSfR3o"
      },
      "source": [
        "def eq_creator(value_x, value_y):\r\n",
        "    eq= ((value_x)**5)*a5+((value_x)**4)*a4+((value_x)**3)*a3+((value_x)**2)*a2 + ((value_x)**1)*a1 + a0 - value_y\r\n",
        "    return eq"
      ],
      "execution_count": null,
      "outputs": []
    },
    {
      "cell_type": "code",
      "metadata": {
        "id": "SFp9kI81faIW"
      },
      "source": [
        "eq_1 = eq_creator(-4, -4268)"
      ],
      "execution_count": null,
      "outputs": []
    },
    {
      "cell_type": "code",
      "metadata": {
        "id": "d07aXYLigObb"
      },
      "source": [
        "eq_2 = eq_creator(-3, -1227)"
      ],
      "execution_count": null,
      "outputs": []
    },
    {
      "cell_type": "code",
      "metadata": {
        "id": "tQQVe2YjgVaP"
      },
      "source": [
        "eq_3 = eq_creator(-1, -17)"
      ],
      "execution_count": null,
      "outputs": []
    },
    {
      "cell_type": "code",
      "metadata": {
        "id": "uwj-Z6ZygeBx"
      },
      "source": [
        "eq_4 = eq_creator(1, 17)"
      ],
      "execution_count": null,
      "outputs": []
    },
    {
      "cell_type": "code",
      "metadata": {
        "id": "sg89Adluguj1"
      },
      "source": [
        "eq_5 = eq_creator(3, 1227)"
      ],
      "execution_count": null,
      "outputs": []
    },
    {
      "cell_type": "code",
      "metadata": {
        "id": "xzBv5Jptgy21"
      },
      "source": [
        "eq_6 = eq_creator(4, 4268)"
      ],
      "execution_count": null,
      "outputs": []
    },
    {
      "cell_type": "code",
      "metadata": {
        "colab": {
          "base_uri": "https://localhost:8080/",
          "height": 37
        },
        "id": "OHZwlAv1hB_Q",
        "outputId": "5039df48-3215-4ae0-fac1-1b2011b62f2e"
      },
      "source": [
        "solving = nonlinsolve([eq_1, eq_2, eq_3, eq_4, eq_5, eq_6], [a5, a4, a3, a2, a1, a0])\r\n",
        "solving"
      ],
      "execution_count": null,
      "outputs": [
        {
          "output_type": "execute_result",
          "data": {
            "image/png": "[encoded data removed]",
            "text/latex": "$$\\left\\{\\left ( 3, \\quad 0, \\quad 19, \\quad 0, \\quad -5, \\quad 0\\right )\\right\\}$$",
            "text/plain": [
              "{(3, 0, 19, 0, -5, 0)}"
            ]
          },
          "metadata": {
            "tags": []
          },
          "execution_count": 183
        }
      ]
    },
    {
      "cell_type": "code",
      "metadata": {
        "colab": {
          "base_uri": "https://localhost:8080/",
          "height": 38
        },
        "id": "J2DGxdophXYq",
        "outputId": "049009fd-f0cc-4da0-b9b8-a4c417360531"
      },
      "source": [
        "final_eq1 = 3*(x**5)+ 19*(x**3) - 5*(x)\r\n",
        "final_eq1"
      ],
      "execution_count": null,
      "outputs": [
        {
          "output_type": "execute_result",
          "data": {
            "image/png": "[encoded data removed]",
            "text/latex": "$$3 x^{5} + 19 x^{3} - 5 x$$",
            "text/plain": [
              "   5       3      \n",
              "3*x  + 19*x  - 5*x"
            ]
          },
          "metadata": {
            "tags": []
          },
          "execution_count": 185
        }
      ]
    },
    {
      "cell_type": "code",
      "metadata": {
        "colab": {
          "base_uri": "https://localhost:8080/",
          "height": 37
        },
        "id": "fswKDnzvhkPp",
        "outputId": "2afddf29-a780-4bb5-e761-0bcde10d389c"
      },
      "source": [
        "  final_eq1.subs(x, 4)"
      ],
      "execution_count": null,
      "outputs": [
        {
          "output_type": "execute_result",
          "data": {
            "image/png": "[encoded data removed]",
            "text/latex": "$$4268$$",
            "text/plain": [
              "4268"
            ]
          },
          "metadata": {
            "tags": []
          },
          "execution_count": 188
        }
      ]
    },
    {
      "cell_type": "markdown",
      "metadata": {
        "id": "FtQQx6e2vFRE"
      },
      "source": [
        "Найдем значения x, при которых f(x) = 0"
      ]
    },
    {
      "cell_type": "code",
      "metadata": {
        "colab": {
          "base_uri": "https://localhost:8080/",
          "height": 58
        },
        "id": "UEAbj5dTtjmG",
        "outputId": "4530af0d-43b5-4917-bb0f-0e43451be471"
      },
      "source": [
        "solve(final_eq1, x)"
      ],
      "execution_count": null,
      "outputs": [
        {
          "output_type": "execute_result",
          "data": {
            "image/png": "[encoded data removed]",
            "text/latex": "$$\\left [ 0, \\quad - i \\sqrt{\\frac{19}{6} + \\frac{\\sqrt{421}}{6}}, \\quad i \\sqrt{\\frac{19}{6} + \\frac{\\sqrt{421}}{6}}, \\quad - \\sqrt{- \\frac{19}{6} + \\frac{\\sqrt{421}}{6}}, \\quad \\sqrt{- \\frac{19}{6} + \\frac{\\sqrt{421}}{6}}\\right ]$$",
            "text/plain": [
              "            ______________         ______________        ________________       ________________ \n",
              "           /        _____         /        _____        /          _____       /          _____  \n",
              "          /  19   \\/ 421         /  19   \\/ 421        /    19   \\/ 421       /    19   \\/ 421   \n",
              "[0, -I*  /   -- + ------- , I*  /   -- + ------- , -  /   - -- + ------- ,   /   - -- + ------- ]\n",
              "       \\/    6       6        \\/    6       6       \\/      6       6      \\/      6       6     "
            ]
          },
          "metadata": {
            "tags": []
          },
          "execution_count": 189
        }
      ]
    },
    {
      "cell_type": "code",
      "metadata": {
        "id": "DFaA8goVtxkH"
      },
      "source": [
        "from sympy.plotting import plot"
      ],
      "execution_count": null,
      "outputs": []
    },
    {
      "cell_type": "code",
      "metadata": {
        "colab": {
          "base_uri": "https://localhost:8080/",
          "height": 381
        },
        "id": "20bGN5wluIwH",
        "outputId": "748ccc01-ceae-4f2e-ff38-83479e105cde"
      },
      "source": [
        "plot (final_eq1, xlim = (-5.0, 5.0), ylim = (-10.0, 10.0),)"
      ],
      "execution_count": null,
      "outputs": [
        {
          "output_type": "stream",
          "text": [
            "/usr/local/lib/python3.6/dist-packages/sympy/plotting/plot.py:890: MatplotlibDeprecationWarning: \n",
            "The set_smart_bounds function was deprecated in Matplotlib 3.2 and will be removed two minor releases later.\n",
            "  self.ax.spines['left'].set_smart_bounds(True)\n",
            "/usr/local/lib/python3.6/dist-packages/sympy/plotting/plot.py:891: MatplotlibDeprecationWarning: \n",
            "The set_smart_bounds function was deprecated in Matplotlib 3.2 and will be removed two minor releases later.\n",
            "  self.ax.spines['bottom'].set_smart_bounds(False)\n"
          ],
          "name": "stderr"
        },
        {
          "output_type": "display_data",
          "data": {
            "image/png": "[encoded data removed]",
            "text/plain": [
              "<Figure size 432x288 with 1 Axes>"
            ]
          },
          "metadata": {
            "tags": [],
            "needs_background": "light"
          }
        },
        {
          "output_type": "execute_result",
          "data": {
            "text/plain": [
              "<sympy.plotting.plot.Plot at 0x7f6284e9fc18>"
            ]
          },
          "metadata": {
            "tags": []
          },
          "execution_count": 199
        }
      ]
    },
    {
      "cell_type": "markdown",
      "metadata": {
        "id": "UGTobSBWwRb4"
      },
      "source": [
        "Найдем экстремумы функции"
      ]
    },
    {
      "cell_type": "code",
      "metadata": {
        "colab": {
          "base_uri": "https://localhost:8080/",
          "height": 58
        },
        "id": "JSGnfV1TvqIF",
        "outputId": "58ceb017-c024-4d04-fac4-dc4fe9f0fdcf"
      },
      "source": [
        "solve(diff(final_eq1, x), x)"
      ],
      "execution_count": null,
      "outputs": [
        {
          "output_type": "execute_result",
          "data": {
            "image/png": "[encoded data removed]",
            "text/latex": "$$\\left [ - i \\sqrt{\\frac{19}{10} + \\frac{13 \\sqrt{21}}{30}}, \\quad i \\sqrt{\\frac{19}{10} + \\frac{13 \\sqrt{21}}{30}}, \\quad - \\sqrt{- \\frac{19}{10} + \\frac{13 \\sqrt{21}}{30}}, \\quad \\sqrt{- \\frac{19}{10} + \\frac{13 \\sqrt{21}}{30}}\\right ]$$",
            "text/plain": [
              "         ________________         ________________        __________________       __________________ \n",
              "        /           ____         /           ____        /             ____       /             ____  \n",
              "       /  19   13*\\/ 21         /  19   13*\\/ 21        /    19   13*\\/ 21       /    19   13*\\/ 21   \n",
              "[-I*  /   -- + --------- , I*  /   -- + --------- , -  /   - -- + --------- ,   /   - -- + --------- ]\n",
              "    \\/    10       30        \\/    10       30       \\/      10       30      \\/      10       30     "
            ]
          },
          "metadata": {
            "tags": []
          },
          "execution_count": 195
        }
      ]
    },
    {
      "cell_type": "markdown",
      "metadata": {
        "id": "cwJ38rENxpO6"
      },
      "source": [
        "Таким образом, используя все полученные данные можно сделать вывод, что полученная функция являтется нечетной. В промежутке от -бесконечность до -0.27 возрастает, в промежутке от приблизительно -0.27 до приблизительно 0.27 убывает. От прибилизительно 0.27 до +бесконечность возрастает. "
      ]
    },
    {
      "cell_type": "markdown",
      "metadata": {
        "id": "Znya0ldIx8uR"
      },
      "source": [
        "# **Задание № 2**"
      ]
    },
    {
      "cell_type": "markdown",
      "metadata": {
        "id": "r1rJyMJn-MH6"
      },
      "source": [
        "Составим систему линейных уравнений"
      ]
    },
    {
      "cell_type": "code",
      "metadata": {
        "id": "ahutjbBSyCNs"
      },
      "source": [
        "eq_syst = [eq_creator(-4, -16729),\r\n",
        "eq_creator(-3, -3999),\r\n",
        "eq_creator(-1, 5),\r\n",
        "eq_creator(1,1),\r\n",
        "eq_creator(3, 4005),\r\n",
        "eq_creator(4, 16735)]"
      ],
      "execution_count": null,
      "outputs": []
    },
    {
      "cell_type": "markdown",
      "metadata": {
        "id": "q0eNvPRe-SfN"
      },
      "source": [
        "Решим ее"
      ]
    },
    {
      "cell_type": "code",
      "metadata": {
        "colab": {
          "base_uri": "https://localhost:8080/",
          "height": 37
        },
        "id": "XyjGBpWzzrdB",
        "outputId": "bc55d485-c699-460c-ba7a-b89b7ea048f1"
      },
      "source": [
        "solving_2 = nonlinsolve(eq_syst, [a5, a4, a3, a2, a1, a0])\r\n",
        "solving_2"
      ],
      "execution_count": null,
      "outputs": [
        {
          "output_type": "execute_result",
          "data": {
            "image/png": "[encoded data removed]",
            "text/latex": "$$\\left\\{\\left ( 16, \\quad 0, \\quad 7, \\quad 0, \\quad -25, \\quad 3\\right )\\right\\}$$",
            "text/plain": [
              "{(16, 0, 7, 0, -25, 3)}"
            ]
          },
          "metadata": {
            "tags": []
          },
          "execution_count": 205
        }
      ]
    },
    {
      "cell_type": "markdown",
      "metadata": {
        "id": "mRFJLNqT-XgS"
      },
      "source": [
        "Составим искомую функцию"
      ]
    },
    {
      "cell_type": "code",
      "metadata": {
        "colab": {
          "base_uri": "https://localhost:8080/",
          "height": 38
        },
        "id": "fQvCb3TS0DMH",
        "outputId": "d41794b4-2d4b-435f-ab95-1d7e6dc0fd36"
      },
      "source": [
        "final_eq2 = 16*(x**5)+7*(x**3) -25*(x) +3 \r\n",
        "final_eq2"
      ],
      "execution_count": null,
      "outputs": [
        {
          "output_type": "execute_result",
          "data": {
            "image/png": "[encoded data removed]",
            "text/latex": "$$16 x^{5} + 7 x^{3} - 25 x + 3$$",
            "text/plain": [
              "    5      3           \n",
              "16*x  + 7*x  - 25*x + 3"
            ]
          },
          "metadata": {
            "tags": []
          },
          "execution_count": 220
        }
      ]
    },
    {
      "cell_type": "markdown",
      "metadata": {
        "id": "7GUc9Exu-ezt"
      },
      "source": [
        "Проверим"
      ]
    },
    {
      "cell_type": "code",
      "metadata": {
        "colab": {
          "base_uri": "https://localhost:8080/"
        },
        "id": "vNDhSCnh0VPy",
        "outputId": "76938bfe-dfde-44c2-f32c-bd2c72b8f44e"
      },
      "source": [
        "real_value = [-16729, -3999, 5, 1, 4005, 16735]\r\n",
        "testing = [final_eq2.subs(x, -4), final_eq2.subs(x, -3), final_eq2.subs(x, -1), \r\n",
        "           final_eq2.subs(x, 1), final_eq2.subs(x, 3), final_eq2.subs(x, 4)]\r\n",
        "if testing == real_value:\r\n",
        "  print(\"Test is passed\") \r\n",
        "else:\r\n",
        "  print('Test is failed')"
      ],
      "execution_count": null,
      "outputs": [
        {
          "output_type": "stream",
          "text": [
            "Test is passed\n"
          ],
          "name": "stdout"
        }
      ]
    },
    {
      "cell_type": "markdown",
      "metadata": {
        "id": "fFli5pDk-iFd"
      },
      "source": [
        "Построим график"
      ]
    },
    {
      "cell_type": "code",
      "metadata": {
        "colab": {
          "base_uri": "https://localhost:8080/",
          "height": 381
        },
        "id": "4UC6YPjh45SR",
        "outputId": "7e5057c1-9f13-42b6-b9b6-4b5bd57831a0"
      },
      "source": [
        "plot (final_eq2, xlim = (-5, 5), ylim = (-20, 20))"
      ],
      "execution_count": null,
      "outputs": [
        {
          "output_type": "stream",
          "text": [
            "/usr/local/lib/python3.6/dist-packages/sympy/plotting/plot.py:890: MatplotlibDeprecationWarning: \n",
            "The set_smart_bounds function was deprecated in Matplotlib 3.2 and will be removed two minor releases later.\n",
            "  self.ax.spines['left'].set_smart_bounds(True)\n",
            "/usr/local/lib/python3.6/dist-packages/sympy/plotting/plot.py:891: MatplotlibDeprecationWarning: \n",
            "The set_smart_bounds function was deprecated in Matplotlib 3.2 and will be removed two minor releases later.\n",
            "  self.ax.spines['bottom'].set_smart_bounds(False)\n"
          ],
          "name": "stderr"
        },
        {
          "output_type": "display_data",
          "data": {
            "image/png": "[encoded data removed]",
            "text/plain": [
              "<Figure size 432x288 with 1 Axes>"
            ]
          },
          "metadata": {
            "tags": [],
            "needs_background": "light"
          }
        },
        {
          "output_type": "execute_result",
          "data": {
            "text/plain": [
              "<sympy.plotting.plot.Plot at 0x7f627cbe55f8>"
            ]
          },
          "metadata": {
            "tags": []
          },
          "execution_count": 249
        }
      ]
    },
    {
      "cell_type": "markdown",
      "metadata": {
        "id": "hOd7gRt18VNN"
      },
      "source": [
        "Найдем x при которых f(x) =0"
      ]
    },
    {
      "cell_type": "code",
      "metadata": {
        "id": "lJoeJBOi0wVm"
      },
      "source": [
        "Roots = solve(final_eq2, x) "
      ],
      "execution_count": null,
      "outputs": []
    },
    {
      "cell_type": "code",
      "metadata": {
        "colab": {
          "base_uri": "https://localhost:8080/",
          "height": 58
        },
        "id": "BaCpBp7l310M",
        "outputId": "e4db8375-96a8-4cfc-a5c4-14bda336a57f"
      },
      "source": [
        "from sympy import N\r\n",
        "[N(solution) for solution in Roots]"
      ],
      "execution_count": null,
      "outputs": [
        {
          "output_type": "execute_result",
          "data": {
            "image/png": "[encoded data removed]",
            "text/latex": "$$\\left [ -1.05748920058586, \\quad 0.120506253533285, \\quad 0.986407581732483, \\quad -0.0247123173399549 - 1.22107053052891 i, \\quad -0.0247123173399549 + 1.22107053052891 i\\right ]$$",
            "text/plain": [
              "[-1.05748920058586, 0.120506253533285, 0.986407581732483, -0.0247123173399549 - 1.22107053052891*I, -0.0247123173399549 + 1.22107053052891*I]"
            ]
          },
          "metadata": {
            "tags": []
          },
          "execution_count": 252
        }
      ]
    },
    {
      "cell_type": "code",
      "metadata": {
        "id": "CQQfb62n_D8T"
      },
      "source": [
        ""
      ],
      "execution_count": null,
      "outputs": []
    },
    {
      "cell_type": "markdown",
      "metadata": {
        "id": "geu4cvGy-oUx"
      },
      "source": [
        "Найдем экстремумы"
      ]
    },
    {
      "cell_type": "code",
      "metadata": {
        "colab": {
          "base_uri": "https://localhost:8080/",
          "height": 38
        },
        "id": "3bnZzDZ98zBR",
        "outputId": "d9f8484f-07e7-4409-d6bf-a6dfe156c43d"
      },
      "source": [
        "extremum = solve(diff(final_eq2, x), x)\r\n",
        "[N(value) for value in extremum]"
      ],
      "execution_count": null,
      "outputs": [
        {
          "output_type": "execute_result",
          "data": {
            "image/png": "[encoded data removed]",
            "text/latex": "$$\\left [ - 0.839921554990208 i, \\quad 0.839921554990208 i, \\quad -0.665558576338078, \\quad 0.665558576338078\\right ]$$",
            "text/plain": [
              "[-0.839921554990208*I, 0.839921554990208*I, -0.665558576338078, 0.665558576338078]"
            ]
          },
          "metadata": {
            "tags": []
          },
          "execution_count": 257
        }
      ]
    },
    {
      "cell_type": "markdown",
      "metadata": {
        "id": "c26DRVj7-wIj"
      },
      "source": [
        "Соотвественно функция являтеся ни четной ни нечетной. f(x) >0 при x= [−1.05, 0.12] U [0.98, +oo]. На всех остальных промежутках меньше нуля. Функция возрастает от - бесконечности до -0.66 и от 0.66 до +бесконечность. От -0.66 до 0.66 убывает."
      ]
    },
    {
      "cell_type": "markdown",
      "metadata": {
        "id": "4jCUKC9CuyKO"
      },
      "source": [
        "# Блок 2."
      ]
    },
    {
      "cell_type": "code",
      "metadata": {
        "id": "5ElcKCqet0wk"
      },
      "source": [
        "from sympy import *\n",
        "from sympy.plotting import plot\n",
        "init_printing(use_unicode=False, wrap_line=False, no_global=True)"
      ],
      "execution_count": null,
      "outputs": []
    },
    {
      "cell_type": "code",
      "metadata": {
        "id": "QwTY4Sq8t0w2"
      },
      "source": [
        "import matplotlib.pyplot as plt\n",
        "import numpy as np"
      ],
      "execution_count": null,
      "outputs": []
    },
    {
      "cell_type": "code",
      "metadata": {
        "id": "Y0t8k28Jt0xG"
      },
      "source": [
        "x = Symbol('x')"
      ],
      "execution_count": null,
      "outputs": []
    },
    {
      "cell_type": "markdown",
      "metadata": {
        "id": "wLhMVWF9t0xQ"
      },
      "source": [
        "## 1.\n",
        "### Получите значение MSE меньшее 5."
      ]
    },
    {
      "cell_type": "code",
      "metadata": {
        "id": "LX3-aD49t0xU"
      },
      "source": [
        "def print_points_ands_function1(sympy_function):\n",
        "    def function(x_): return float(sympy_function.subs(x, x_))\n",
        "    \n",
        "    points_X = np.array([-2, -1, 0, 1, 2, 3, 3.5, 4, 4.5, 5])\n",
        "    points_Y = np.array([2, -4, 1, 8, 21, 40, 47, 65, 75, 92])\n",
        "    plt.xlim(-6, 10)\n",
        "    plt.ylim(-1, 100)\n",
        "    \n",
        "    plt.scatter(points_X, points_Y, c='r')\n",
        "    x_range = np.linspace(plt.xlim()[0], plt.xlim()[1], num=100)\n",
        "    function_Y = [function(x_) for x_ in x_range]\n",
        "    plt.plot(x_range, function_Y, 'b')\n",
        "    plt.show()\n",
        "    \n",
        "    MSE = sum([(points_Y[i] - function(points_X[i]))**2 for i in range(len(points_Y))]) / len(points_Y)\n",
        "    print(f'MSE = {MSE}')"
      ],
      "execution_count": null,
      "outputs": []
    },
    {
      "cell_type": "code",
      "metadata": {
        "id": "tCcjAV0qt0xb",
        "colab": {
          "base_uri": "https://localhost:8080/",
          "height": 38
        },
        "outputId": "5575c844-6a9f-4cd3-f86c-bb2101aa7a84"
      },
      "source": [
        "f1 = 48 * x**2 - 128 * x + 83\n",
        "f1"
      ],
      "execution_count": null,
      "outputs": [
        {
          "output_type": "execute_result",
          "data": {
            "image/png": "[encoded data removed]",
            "text/latex": "$$48 x^{2} - 128 x + 83$$",
            "text/plain": [
              "    2             \n",
              "48*x  - 128*x + 83"
            ]
          },
          "metadata": {
            "tags": []
          },
          "execution_count": 139
        }
      ]
    },
    {
      "cell_type": "code",
      "metadata": {
        "id": "VQwDN4XLt0xl",
        "colab": {
          "base_uri": "https://localhost:8080/",
          "height": 286
        },
        "outputId": "8bcf47d0-3f95-418f-b9a2-94711cfcf8b6"
      },
      "source": [
        "print_points_ands_function1(f1)"
      ],
      "execution_count": null,
      "outputs": [
        {
          "output_type": "display_data",
          "data": {
            "image/png": "[encoded data removed]",
            "text/plain": [
              "<Figure size 432x288 with 1 Axes>"
            ]
          },
          "metadata": {
            "tags": [],
            "needs_background": "light"
          }
        },
        {
          "output_type": "stream",
          "text": [
            "MSE = 93691.3\n"
          ],
          "name": "stdout"
        }
      ]
    },
    {
      "cell_type": "code",
      "metadata": {
        "id": "-k2kziJwU64H",
        "colab": {
          "base_uri": "https://localhost:8080/",
          "height": 38
        },
        "outputId": "9e2c4e42-3524-42e4-d4e4-aec7fd068f4f"
      },
      "source": [
        "f_new = f1.subs(x, (x+6)/4)\r\n",
        "simplify(f_new)"
      ],
      "execution_count": null,
      "outputs": [
        {
          "output_type": "execute_result",
          "data": {
            "image/png": "[encoded data removed]",
            "text/latex": "$$3 x^{2} + 4 x - 1$$",
            "text/plain": [
              "   2          \n",
              "3*x  + 4*x - 1"
            ]
          },
          "metadata": {
            "tags": []
          },
          "execution_count": 140
        }
      ]
    },
    {
      "cell_type": "code",
      "metadata": {
        "id": "5OjqG8hNVXVY",
        "colab": {
          "base_uri": "https://localhost:8080/",
          "height": 286
        },
        "outputId": "4545f468-c121-4dce-ae9a-d028f7bd4146"
      },
      "source": [
        "print_points_ands_function1(f_new)"
      ],
      "execution_count": null,
      "outputs": [
        {
          "output_type": "display_data",
          "data": {
            "image/png": "[encoded data removed]",
            "text/plain": [
              "<Figure size 432x288 with 1 Axes>"
            ]
          },
          "metadata": {
            "tags": [],
            "needs_background": "light"
          }
        },
        {
          "output_type": "stream",
          "text": [
            "MSE = 4.4125\n"
          ],
          "name": "stdout"
        }
      ]
    },
    {
      "cell_type": "markdown",
      "metadata": {
        "id": "HRrtO4Lyt0xt"
      },
      "source": [
        "## 2.\n",
        "### Получите значение MSE меньшее 35."
      ]
    },
    {
      "cell_type": "code",
      "metadata": {
        "id": "dm_YVXYgt0xw"
      },
      "source": [
        "def print_points_ands_function2(sympy_function):\n",
        "    def function(x_): return float(sympy_function.subs(x, x_))\n",
        "    \n",
        "    points_X = np.array([-2, -1, 0, 1, 2, 3, 3.5, 4, 4.5, 5])\n",
        "    points_Y = np.array([-31, -9, 4, -1, 9, 24, 47, 92, 120, 170])\n",
        "    plt.xlim(-3, 6)\n",
        "    plt.ylim(-35, 200)\n",
        "    \n",
        "    plt.scatter(points_X, points_Y, c='r')\n",
        "    x_range = np.linspace(plt.xlim()[0], plt.xlim()[1], num=100)\n",
        "    function_Y = [function(x_) for x_ in x_range]\n",
        "    plt.plot(x_range, function_Y, 'b')\n",
        "    plt.show()\n",
        "    \n",
        "    MSE = sum([(points_Y[i] - function(points_X[i]))**2 for i in range(len(points_Y))]) / len(points_Y)\n",
        "    print(f'MSE = {MSE}')"
      ],
      "execution_count": null,
      "outputs": []
    },
    {
      "cell_type": "code",
      "metadata": {
        "id": "7LMQiJDKt0x1",
        "colab": {
          "base_uri": "https://localhost:8080/",
          "height": 38
        },
        "outputId": "ba4d86ad-177e-4ee0-c40b-8e5f003fe494"
      },
      "source": [
        "f2 = 4 * x**3 + 30 * x**2 + 74 * x + 62\n",
        "f2"
      ],
      "execution_count": null,
      "outputs": [
        {
          "output_type": "execute_result",
          "data": {
            "image/png": "[encoded data removed]",
            "text/latex": "$$4 x^{3} + 30 x^{2} + 74 x + 62$$",
            "text/plain": [
              "   3       2            \n",
              "4*x  + 30*x  + 74*x + 62"
            ]
          },
          "metadata": {
            "tags": []
          },
          "execution_count": 5
        }
      ]
    },
    {
      "cell_type": "code",
      "metadata": {
        "id": "SjwUXoCXt0x6",
        "colab": {
          "base_uri": "https://localhost:8080/",
          "height": 286
        },
        "outputId": "c1ef319b-809f-4dcf-a81e-3ada1ed6ac0b"
      },
      "source": [
        "print_points_ands_function2(f2)"
      ],
      "execution_count": null,
      "outputs": [
        {
          "output_type": "display_data",
          "data": {
            "image/png": "[encoded data removed]",
            "text/plain": [
              "<Figure size 432x288 with 1 Axes>"
            ]
          },
          "metadata": {
            "tags": [],
            "needs_background": "light"
          }
        },
        {
          "output_type": "stream",
          "text": [
            "MSE = 607200.2\n"
          ],
          "name": "stdout"
        }
      ]
    },
    {
      "cell_type": "code",
      "metadata": {
        "id": "YzdxilfLW9L7",
        "colab": {
          "base_uri": "https://localhost:8080/",
          "height": 38
        },
        "outputId": "90665f63-ee26-4009-aec9-b3daf28652a0"
      },
      "source": [
        "f_new2 = f2.subs(x, (x-3.66)/1.27)\r\n",
        "simplify(f_new2)"
      ],
      "execution_count": null,
      "outputs": [
        {
          "output_type": "execute_result",
          "data": {
            "image/png": "[encoded data removed]",
            "text/latex": "$$1.95275981103143 x^{3} - 2.84126552505073 x^{2} + 0.590612204846451 x + 2.15911086940284$$",
            "text/plain": [
              "                  3                     2                                         \n",
              "1.95275981103143*x  - 2.84126552505073*x  + 0.590612204846451*x + 2.15911086940284"
            ]
          },
          "metadata": {
            "tags": []
          },
          "execution_count": 136
        }
      ]
    },
    {
      "cell_type": "code",
      "metadata": {
        "colab": {
          "base_uri": "https://localhost:8080/",
          "height": 286
        },
        "id": "FLsOHHcUXH6g",
        "outputId": "3acfd67f-930a-442c-d4ae-8337215550bb"
      },
      "source": [
        "print_points_ands_function2(f_new2)"
      ],
      "execution_count": null,
      "outputs": [
        {
          "output_type": "display_data",
          "data": {
            "image/png": "[encoded data removed]",
            "text/plain": [
              "<Figure size 432x288 with 1 Axes>"
            ]
          },
          "metadata": {
            "tags": [],
            "needs_background": "light"
          }
        },
        {
          "output_type": "stream",
          "text": [
            "MSE = 31.729352270529\n"
          ],
          "name": "stdout"
        }
      ]
    },
    {
      "cell_type": "markdown",
      "metadata": {
        "id": "xYJNX-nUt0x_"
      },
      "source": [
        "## 3.\n",
        "### Получите значение MSE меньшее 3300."
      ]
    },
    {
      "cell_type": "code",
      "metadata": {
        "id": "UNLnKjvit0yB"
      },
      "source": [
        "def print_points_ands_function3(sympy_function):\n",
        "    def function(x_): return float(sympy_function.subs(x, x_))\n",
        "    \n",
        "    points_X = np.array([-2, -1, 0, 1, 2, 3, 3.5, 4, 4.5, 5])\n",
        "    points_Y = np.array([60, 25, 4, -0, -57, -195, -295, -540, -700, -760])\n",
        "    plt.xlim(-10, 6)\n",
        "    plt.ylim(-850, 100)\n",
        "    \n",
        "    plt.scatter(points_X, points_Y, c='r')\n",
        "    x_range = np.linspace(plt.xlim()[0], plt.xlim()[1], num=100)\n",
        "    function_Y = [function(x_) for x_ in x_range]\n",
        "    plt.plot(x_range, function_Y, 'b')\n",
        "    plt.show()\n",
        "    \n",
        "    MSE = sum([(points_Y[i] - function(points_X[i]))**2 for i in range(len(points_Y))]) / len(points_Y)\n",
        "    print(f'MSE = {MSE}')"
      ],
      "execution_count": null,
      "outputs": []
    },
    {
      "cell_type": "code",
      "metadata": {
        "id": "osbCVOuIt0yH",
        "colab": {
          "base_uri": "https://localhost:8080/",
          "height": 38
        },
        "outputId": "0d71bc61-3b2f-4c01-c1af-539b51285ca0"
      },
      "source": [
        "f3 = -36 * x**3 - 756 * x**2 - 5334 * x - 12636\n",
        "f3"
      ],
      "execution_count": null,
      "outputs": [
        {
          "output_type": "execute_result",
          "data": {
            "image/png": "[encoded data removed]",
            "text/latex": "$$- 36 x^{3} - 756 x^{2} - 5334 x - 12636$$",
            "text/plain": [
              "      3        2                 \n",
              "- 36*x  - 756*x  - 5334*x - 12636"
            ]
          },
          "metadata": {
            "tags": []
          },
          "execution_count": 92
        }
      ]
    },
    {
      "cell_type": "code",
      "metadata": {
        "id": "1T4lJVQPt0yR",
        "colab": {
          "base_uri": "https://localhost:8080/",
          "height": 282
        },
        "outputId": "e253c06d-b4b8-4695-9d8d-e3bf8aa2049d"
      },
      "source": [
        "print_points_ands_function3(f3)"
      ],
      "execution_count": null,
      "outputs": [
        {
          "output_type": "display_data",
          "data": {
            "image/png": "[encoded data removed]",
            "text/plain": [
              "<Figure size 432x288 with 1 Axes>"
            ]
          },
          "metadata": {
            "tags": [],
            "needs_background": "light"
          }
        },
        {
          "output_type": "stream",
          "text": [
            "MSE = 1346344545.35\n"
          ],
          "name": "stdout"
        }
      ]
    },
    {
      "cell_type": "code",
      "metadata": {
        "colab": {
          "base_uri": "https://localhost:8080/",
          "height": 38
        },
        "id": "O73nJLCKZ44_",
        "outputId": "23c5878b-d6d3-4acd-8c79-5cc522a16f76"
      },
      "source": [
        "f_new3 = f3.subs(x, (x-13.5)/2)\r\n",
        "simplify(f_new3)"
      ],
      "execution_count": null,
      "outputs": [
        {
          "output_type": "execute_result",
          "data": {
            "image/png": "[encoded data removed]",
            "text/latex": "$$- 4.5 x^{3} - 6.75 x^{2} - 24.375 x - 5.0625$$",
            "text/plain": [
              "       3         2                    \n",
              "- 4.5*x  - 6.75*x  - 24.375*x - 5.0625"
            ]
          },
          "metadata": {
            "tags": []
          },
          "execution_count": 135
        }
      ]
    },
    {
      "cell_type": "code",
      "metadata": {
        "colab": {
          "base_uri": "https://localhost:8080/",
          "height": 282
        },
        "id": "mNUXxFYWaI34",
        "outputId": "d47e172d-c0ae-41f8-a14d-25134a87de19"
      },
      "source": [
        "print_points_ands_function3(f_new3)"
      ],
      "execution_count": null,
      "outputs": [
        {
          "output_type": "display_data",
          "data": {
            "image/png": "[encoded data removed]",
            "text/plain": [
              "<Figure size 432x288 with 1 Axes>"
            ]
          },
          "metadata": {
            "tags": [],
            "needs_background": "light"
          }
        },
        {
          "output_type": "stream",
          "text": [
            "MSE = 2759.478125\n"
          ],
          "name": "stdout"
        }
      ]
    },
    {
      "cell_type": "markdown",
      "metadata": {
        "id": "3jcBH1M3t0yZ"
      },
      "source": [
        "## 4.\n",
        "### Получите значение MSE меньшее 25."
      ]
    },
    {
      "cell_type": "code",
      "metadata": {
        "id": "R4nnsc8zt0yb"
      },
      "source": [
        "def print_points_ands_function4(sympy_function):\n",
        "    def function(x_): return float(sympy_function.subs(x, x_))\n",
        "    \n",
        "    points_X = np.array([-2, -1, 0, 1, 2, 3, 3.5, 4, 4.5, 5])\n",
        "    points_Y = np.array([-42, -37, -23, -36, -45, -80, -83, -110, -131, -155])\n",
        "    plt.xlim(-4, 20)\n",
        "    plt.ylim(-160, -10)\n",
        "    \n",
        "    plt.scatter(points_X, points_Y, c='r')\n",
        "    x_range = np.linspace(plt.xlim()[0], plt.xlim()[1], num=100)\n",
        "    function_Y = [function(x_) for x_ in x_range]\n",
        "    plt.plot(x_range, function_Y, 'b')\n",
        "    plt.show()\n",
        "    \n",
        "    MSE = sum([(points_Y[i] - function(points_X[i]))**2 for i in range(len(points_Y))]) / len(points_Y)\n",
        "    print(f'MSE = {MSE}')"
      ],
      "execution_count": null,
      "outputs": []
    },
    {
      "cell_type": "code",
      "metadata": {
        "id": "Uq__GcfPt0yj",
        "colab": {
          "base_uri": "https://localhost:8080/",
          "height": 38
        },
        "outputId": "455e40c9-fa24-4365-ed48-95a116b87d30"
      },
      "source": [
        "f4 = - 5 / 4 * x**2 + 25 * x - 152\n",
        "f4"
      ],
      "execution_count": null,
      "outputs": [
        {
          "output_type": "execute_result",
          "data": {
            "image/png": "[encoded data removed]",
            "text/latex": "$$- 1.25 x^{2} + 25 x - 152$$",
            "text/plain": [
              "        2             \n",
              "- 1.25*x  + 25*x - 152"
            ]
          },
          "metadata": {
            "tags": []
          },
          "execution_count": 148
        }
      ]
    },
    {
      "cell_type": "code",
      "metadata": {
        "id": "Muwpsp8tt0yp",
        "colab": {
          "base_uri": "https://localhost:8080/",
          "height": 282
        },
        "outputId": "b55223f9-8693-428a-d6b1-62772b3d36cf"
      },
      "source": [
        "print_points_ands_function4(f4)"
      ],
      "execution_count": null,
      "outputs": [
        {
          "output_type": "display_data",
          "data": {
            "image/png": "[encoded data removed]",
            "text/plain": [
              "<Figure size 432x288 with 1 Axes>"
            ]
          },
          "metadata": {
            "tags": [],
            "needs_background": "light"
          }
        },
        {
          "output_type": "stream",
          "text": [
            "MSE = 9143.51953125\n"
          ],
          "name": "stdout"
        }
      ]
    },
    {
      "cell_type": "code",
      "metadata": {
        "id": "oTNLmWfDt0yt"
      },
      "source": [
        "f_new4 = f4.subs(x, (x+5)*2)"
      ],
      "execution_count": null,
      "outputs": []
    },
    {
      "cell_type": "code",
      "metadata": {
        "colab": {
          "base_uri": "https://localhost:8080/",
          "height": 282
        },
        "id": "XMI5LhOAb6m3",
        "outputId": "2759f4f4-8182-4416-b133-a907e0dbfd49"
      },
      "source": [
        "print_points_ands_function4(f_new4)"
      ],
      "execution_count": null,
      "outputs": [
        {
          "output_type": "display_data",
          "data": {
            "image/png": "[encoded data removed]",
            "text/plain": [
              "<Figure size 432x288 with 1 Axes>"
            ]
          },
          "metadata": {
            "tags": [],
            "needs_background": "light"
          }
        },
        {
          "output_type": "stream",
          "text": [
            "MSE = 20.3125\n"
          ],
          "name": "stdout"
        }
      ]
    }
  ]
}